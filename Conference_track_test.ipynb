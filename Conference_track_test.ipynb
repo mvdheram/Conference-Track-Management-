{
  "nbformat": 4,
  "nbformat_minor": 0,
  "metadata": {
    "colab": {
      "name": "Conference track test.ipynb",
      "provenance": [],
      "collapsed_sections": [],
      "authorship_tag": "ABX9TyOHflE05ZGK114MwaRXKQGF",
      "include_colab_link": true
    },
    "kernelspec": {
      "name": "python3",
      "display_name": "Python 3"
    },
    "language_info": {
      "name": "python"
    }
  },
  "cells": [
    {
      "cell_type": "markdown",
      "metadata": {
        "id": "view-in-github",
        "colab_type": "text"
      },
      "source": [
        "<a href=\"https://colab.research.google.com/github/mvdheram/Conference-Track-Management-/blob/main/Conference_track_test.ipynb\" target=\"_parent\"><img src=\"https://colab.research.google.com/assets/colab-badge.svg\" alt=\"Open In Colab\"/></a>"
      ]
    },
    {
      "cell_type": "markdown",
      "source": [
        "# Read inputs "
      ],
      "metadata": {
        "id": "UAXf90RWC2UF"
      }
    },
    {
      "cell_type": "code",
      "source": [
        "def readFromFile(file_name):\n",
        "  file = open(file_name,'r')\n",
        "  try:\n",
        "    text = file.read()\n",
        "    return text\n",
        "  except IOError:\n",
        "    return False\n",
        "  finally:\n",
        "    file.close()"
      ],
      "metadata": {
        "id": "kyPEdbPsUqfR"
      },
      "execution_count": 1,
      "outputs": []
    },
    {
      "cell_type": "code",
      "source": [
        "txtfile = readFromFile('/content/talks.txt')"
      ],
      "metadata": {
        "id": "VO8YN65cZ5o_"
      },
      "execution_count": 2,
      "outputs": []
    },
    {
      "cell_type": "markdown",
      "source": [
        "# Parse inputs into dict with talk_name and time"
      ],
      "metadata": {
        "id": "J8yEMSxqC81I"
      }
    },
    {
      "cell_type": "code",
      "source": [
        "# Constants\n",
        "MORNING_SESSION_TOTAL_MINUTES = 180\n",
        "LUNCH_SESSION_TOTAL_MINUTES = 60\n",
        "AFTERNOON_SESSION_TOTAL_MINUTES = 240 \n",
        "NETWORKING_SESSION_TOTAL_MINUTES = 60 - AFTERNOON_SESSION_TOTAL_MINUTES\n",
        "# >180 and <240 min\n",
        "ENDS_WITH_LIGHTNING_REGEX = \"lightning$\"\n",
        "ENDS_WITH_MINUTES_REGEX = \"\\d+min$\"\n",
        "NETWORKING_SESSION = 'Networking'\n",
        "LUNCH_SESSION = 'Lunch'\n",
        "\n",
        "\n",
        "MORNING_SESSION_START_TIME = 9\n",
        "LUNCH_SESSION_START_TIME = 12\n",
        "AFTERNOON_SESSION_START_TIME = 13\n",
        "NETWORKING_SESSION_START_TIME = 17\n",
        "LIGHTNING_MIN = 5"
      ],
      "metadata": {
        "id": "wecvNZ5kf4st"
      },
      "execution_count": 3,
      "outputs": []
    },
    {
      "cell_type": "code",
      "source": [
        "# Date_Time class\n",
        "from datetime import datetime, date, time, timedelta\n",
        "\n",
        "def get_time(hours):\n",
        "  return time(hours)\n",
        "\n",
        "def add_minutes_toTime(time,min):\n",
        "  return (datetime.combine(date.today(),time)+ timedelta(minutes=int(min))).time()\n",
        "\n",
        "def format_time(time):\n",
        "  return time.strftime(\"%I:%M %p\")"
      ],
      "metadata": {
        "id": "y29DXQNu-8Id"
      },
      "execution_count": 4,
      "outputs": []
    },
    {
      "cell_type": "code",
      "source": [
        "from typing_extensions import OrderedDict\n",
        "import re\n",
        "\n",
        "def parseTxtFile(textfile):\n",
        "  talks= OrderedDict()\n",
        "  lines = textfile.split('\\n')\n",
        "  for line in lines:\n",
        "    try:\n",
        "      if line.endswith('min'):\n",
        "        talk_event = re.sub(ENDS_WITH_MINUTES_REGEX,\" \",line)\n",
        "        talk_time = int(re.search(ENDS_WITH_MINUTES_REGEX,line).group(0).strip('min'))\n",
        "      else:\n",
        "        talk_event = re.sub(ENDS_WITH_LIGHTNING_REGEX,\" \",line)\n",
        "        talk_time = 5\n",
        "      talks[talk_event] = talk_time\n",
        "    except AttributeError:\n",
        "      pass\n",
        "  return talks  "
      ],
      "metadata": {
        "id": "yKcJT3z1cAtl"
      },
      "execution_count": 5,
      "outputs": []
    },
    {
      "cell_type": "code",
      "source": [
        "talksDict = parseTxtFile(txtfile)"
      ],
      "metadata": {
        "id": "vo-_tA8ynoBo"
      },
      "execution_count": 6,
      "outputs": []
    },
    {
      "cell_type": "markdown",
      "source": [
        "# Solver"
      ],
      "metadata": {
        "id": "_NlhW_Z7DjB2"
      }
    },
    {
      "cell_type": "code",
      "source": [
        "talksDict"
      ],
      "metadata": {
        "colab": {
          "base_uri": "https://localhost:8080/"
        },
        "id": "Jx4Rp_PXnmUk",
        "outputId": "8c7635a2-dff9-48c7-b651-4319c0a91d29"
      },
      "execution_count": 7,
      "outputs": [
        {
          "output_type": "execute_result",
          "data": {
            "text/plain": [
              "OrderedDict([('Writing Fast Tests Against Enterprise Rails  ', 60),\n",
              "             ('Overdoing it in Python  ', 45),\n",
              "             ('Lua for the Masses  ', 30),\n",
              "             ('Ruby Errors from Mismatched Gem Versions  ', 45),\n",
              "             ('Common Ruby Errors  ', 45),\n",
              "             ('Rails for Python Developers  ', 5),\n",
              "             ('Communicating Over Distance  ', 60),\n",
              "             ('Accounting-Driven Development  ', 45),\n",
              "             ('Woah  ', 30),\n",
              "             ('Sit Down and Write  ', 30),\n",
              "             ('Pair Programming vs Noise  ', 45),\n",
              "             ('Rails Magic  ', 60),\n",
              "             ('Ruby on Rails: Why We Should Move On  ', 60),\n",
              "             ('Clojure Ate Scala (on my project)  ', 45),\n",
              "             ('Programming in the Boondocks of Seattle  ', 30),\n",
              "             ('Ruby vs. Clojure for Back-End Development  ', 30),\n",
              "             ('Ruby on Rails Legacy App Maintenance  ', 60),\n",
              "             ('A World Without HackerNews  ', 30),\n",
              "             ('User Interface CSS in Rails Apps  ', 30)])"
            ]
          },
          "metadata": {},
          "execution_count": 7
        }
      ]
    },
    {
      "cell_type": "code",
      "source": [
        "talksDict.values()"
      ],
      "metadata": {
        "colab": {
          "base_uri": "https://localhost:8080/"
        },
        "id": "9N-mNonen2_I",
        "outputId": "941dc86d-08ec-49ae-adb6-c7f008cb2cac"
      },
      "execution_count": 8,
      "outputs": [
        {
          "output_type": "execute_result",
          "data": {
            "text/plain": [
              "odict_values([60, 45, 30, 45, 45, 5, 60, 45, 30, 30, 45, 60, 60, 45, 30, 30, 60, 30, 30])"
            ]
          },
          "metadata": {},
          "execution_count": 8
        }
      ]
    },
    {
      "cell_type": "code",
      "source": [
        "talksDict.keys()"
      ],
      "metadata": {
        "colab": {
          "base_uri": "https://localhost:8080/"
        },
        "id": "b_hDBFPI1xwm",
        "outputId": "d868c10d-225c-41fe-8b43-e4a726af62cd"
      },
      "execution_count": 9,
      "outputs": [
        {
          "output_type": "execute_result",
          "data": {
            "text/plain": [
              "odict_keys(['Writing Fast Tests Against Enterprise Rails  ', 'Overdoing it in Python  ', 'Lua for the Masses  ', 'Ruby Errors from Mismatched Gem Versions  ', 'Common Ruby Errors  ', 'Rails for Python Developers  ', 'Communicating Over Distance  ', 'Accounting-Driven Development  ', 'Woah  ', 'Sit Down and Write  ', 'Pair Programming vs Noise  ', 'Rails Magic  ', 'Ruby on Rails: Why We Should Move On  ', 'Clojure Ate Scala (on my project)  ', 'Programming in the Boondocks of Seattle  ', 'Ruby vs. Clojure for Back-End Development  ', 'Ruby on Rails Legacy App Maintenance  ', 'A World Without HackerNews  ', 'User Interface CSS in Rails Apps  '])"
            ]
          },
          "metadata": {},
          "execution_count": 9
        }
      ]
    },
    {
      "cell_type": "code",
      "source": [
        "talks_set = set(talksDict.keys())"
      ],
      "metadata": {
        "id": "NYzxwF6Qhhw9"
      },
      "execution_count": 10,
      "outputs": []
    },
    {
      "cell_type": "code",
      "source": [
        "def talkTimeSum(tp):\n",
        "  return sum([talksDict[key] for key in tp])"
      ],
      "metadata": {
        "id": "FYOpUWpmhekR"
      },
      "execution_count": 11,
      "outputs": []
    },
    {
      "cell_type": "code",
      "source": [
        "from itertools import cycle\n",
        "\n",
        "def subsetSum(sessionTotalMinutes, talks):\n",
        "  cumsum = 0\n",
        "  session = []\n",
        "  target  = sessionTotalMinutes\n",
        "  temp_keys = []\n",
        "\n",
        "  iterator = cycle(talks_set)\n",
        "  session.clear()\n",
        "\n",
        "  for talk in iterator:\n",
        "    cumsum = talkTimeSum(temp_keys)\n",
        "\n",
        "    if cumsum < target:\n",
        "      temp_keys.append(talk)\n",
        "\n",
        "    elif cumsum == target:\n",
        "      return set(temp_keys)\n",
        "\n",
        "    elif cumsum > target:\n",
        "      temp_keys.pop(0)\n",
        "\n",
        "  return session"
      ],
      "metadata": {
        "id": "pIMtxSaFiSIm"
      },
      "execution_count": 12,
      "outputs": []
    },
    {
      "cell_type": "code",
      "source": [
        "def updateTalksList(sessionTalks):\n",
        "  global talks_set \n",
        "  if len(talks_set) is not None:\n",
        "     talks_set = talks_set.difference(sessionTalks)\n",
        "     return talks_set\n",
        "  else:\n",
        "    return 0"
      ],
      "metadata": {
        "id": "ZS3azIXBmSYP"
      },
      "execution_count": 13,
      "outputs": []
    },
    {
      "cell_type": "code",
      "source": [
        "morningSession = subsetSum(MORNING_SESSION_TOTAL_MINUTES,talks_set)"
      ],
      "metadata": {
        "id": "DGI9WsUmk2Qx"
      },
      "execution_count": 14,
      "outputs": []
    },
    {
      "cell_type": "code",
      "source": [
        "morningSession"
      ],
      "metadata": {
        "colab": {
          "base_uri": "https://localhost:8080/"
        },
        "id": "8wQPkbb-j_Vk",
        "outputId": "7632b847-aec4-406a-a1ff-58c9b46b4a77"
      },
      "execution_count": 15,
      "outputs": [
        {
          "output_type": "execute_result",
          "data": {
            "text/plain": [
              "{'A World Without HackerNews  ',\n",
              " 'Communicating Over Distance  ',\n",
              " 'Overdoing it in Python  ',\n",
              " 'Ruby Errors from Mismatched Gem Versions  '}"
            ]
          },
          "metadata": {},
          "execution_count": 15
        }
      ]
    },
    {
      "cell_type": "code",
      "source": [
        "eveningSession = subsetSum(AFTERNOON_SESSION_TOTAL_MINUTES,updateTalksList(morningSession))"
      ],
      "metadata": {
        "id": "aTvy-JjOyorU"
      },
      "execution_count": 16,
      "outputs": []
    },
    {
      "cell_type": "code",
      "source": [
        "eveningSession2 = subsetSum(185,updateTalksList(eveningSession))"
      ],
      "metadata": {
        "id": "ZpM94w63l9gi"
      },
      "execution_count": 17,
      "outputs": []
    },
    {
      "cell_type": "code",
      "source": [
        "eveningSession"
      ],
      "metadata": {
        "colab": {
          "base_uri": "https://localhost:8080/"
        },
        "id": "45xeRNfdkTsi",
        "outputId": "2b104013-724e-4bb3-8ae5-4ab40511d3f6"
      },
      "execution_count": 18,
      "outputs": [
        {
          "output_type": "execute_result",
          "data": {
            "text/plain": [
              "{'Accounting-Driven Development  ',\n",
              " 'Clojure Ate Scala (on my project)  ',\n",
              " 'Programming in the Boondocks of Seattle  ',\n",
              " 'Ruby on Rails Legacy App Maintenance  ',\n",
              " 'Writing Fast Tests Against Enterprise Rails  '}"
            ]
          },
          "metadata": {},
          "execution_count": 18
        }
      ]
    },
    {
      "cell_type": "code",
      "source": [
        "eveningSession2"
      ],
      "metadata": {
        "colab": {
          "base_uri": "https://localhost:8080/"
        },
        "id": "XgdplE_zqU_k",
        "outputId": "e3f1572f-7d23-4d99-8b74-e3d189a7e17b"
      },
      "execution_count": 19,
      "outputs": [
        {
          "output_type": "execute_result",
          "data": {
            "text/plain": [
              "{'Common Ruby Errors  ',\n",
              " 'Lua for the Masses  ',\n",
              " 'Pair Programming vs Noise  ',\n",
              " 'Rails for Python Developers  ',\n",
              " 'Ruby vs. Clojure for Back-End Development  ',\n",
              " 'Sit Down and Write  '}"
            ]
          },
          "metadata": {},
          "execution_count": 19
        }
      ]
    },
    {
      "cell_type": "code",
      "source": [
        "morningSession2 = subsetSum(180,updateTalksList(eveningSession2))"
      ],
      "metadata": {
        "id": "a5pbisnBqYqk"
      },
      "execution_count": 20,
      "outputs": []
    },
    {
      "cell_type": "code",
      "source": [
        "morningSession2"
      ],
      "metadata": {
        "colab": {
          "base_uri": "https://localhost:8080/"
        },
        "id": "DSnhx8dTqu0_",
        "outputId": "2155b65b-5f85-431b-e0b7-a06d85095673"
      },
      "execution_count": 21,
      "outputs": [
        {
          "output_type": "execute_result",
          "data": {
            "text/plain": [
              "{'Rails Magic  ',\n",
              " 'Ruby on Rails: Why We Should Move On  ',\n",
              " 'User Interface CSS in Rails Apps  ',\n",
              " 'Woah  '}"
            ]
          },
          "metadata": {},
          "execution_count": 21
        }
      ]
    },
    {
      "cell_type": "markdown",
      "source": [
        "# Outputting "
      ],
      "metadata": {
        "id": "1MtdSFk7Dnha"
      }
    },
    {
      "cell_type": "code",
      "source": [
        "def getRemainingMinutes(talkList):\n",
        "  return talkTimeSum(talksDict.keys())- talkTimeSum(talkList)"
      ],
      "metadata": {
        "id": "YgxpDlshwtmD"
      },
      "execution_count": 22,
      "outputs": []
    },
    {
      "cell_type": "code",
      "source": [
        "import numpy as np\n",
        "\n",
        "def getCumSum(talkList):\n",
        "  return list(np.cumsum(talkList))"
      ],
      "metadata": {
        "id": "oZtOWdf3TCQ3"
      },
      "execution_count": 23,
      "outputs": []
    },
    {
      "cell_type": "code",
      "source": [
        "def assignTimeTotalks(talkList, morning:bool):\n",
        "  talktime = {}\n",
        "\n",
        "  cumSum = getCumSum([talksDict[talk] for talk in talkList])\n",
        "  first_item = list(talkList)[0]\n",
        "\n",
        "  if morning == 1:\n",
        "     # Add first element to dict for calculating the cumulative sum \n",
        "    start_time = MORNING_SESSION_START_TIME\n",
        "    ends_with = LUNCH_SESSION\n",
        "    ends_with_start_time = LUNCH_SESSION_START_TIME\n",
        "    \n",
        "  else:\n",
        "    start_time = AFTERNOON_SESSION_START_TIME\n",
        "    ends_with = NETWORKING_SESSION\n",
        "    ends_with_start_time = NETWORKING_SESSION_START_TIME\n",
        "\n",
        "  talktime[format_time(get_time(start_time))] = first_item, talksDict[first_item]\n",
        "\n",
        "  for talk,cumsum in zip(list(talkList)[1:],cumSum) :\n",
        "    talktime[format_time(add_minutes_toTime(get_time(start_time),cumsum))] = talk, talksDict[talk]\n",
        "  talktime[format_time(get_time(ends_with_start_time))] = ends_with\n",
        "\n",
        "  return talktime"
      ],
      "metadata": {
        "id": "dRjpRaDaKTMP"
      },
      "execution_count": 24,
      "outputs": []
    },
    {
      "cell_type": "code",
      "source": [
        "morning =  subsetSum(MORNING_SESSION_TOTAL_MINUTES,talks_set)"
      ],
      "metadata": {
        "id": "M9CFTe3xbWZU"
      },
      "execution_count": 25,
      "outputs": []
    },
    {
      "cell_type": "code",
      "source": [
        "assignTimeTotalks(morning, 1)"
      ],
      "metadata": {
        "colab": {
          "base_uri": "https://localhost:8080/"
        },
        "id": "pnpIS1zPZR2Y",
        "outputId": "be07f9d8-0249-4b52-9f7f-a0a6f154a0c2"
      },
      "execution_count": 26,
      "outputs": [
        {
          "output_type": "execute_result",
          "data": {
            "text/plain": [
              "{'09:00 AM': ('Woah  ', 30),\n",
              " '09:30 AM': ('Rails Magic  ', 60),\n",
              " '10:30 AM': ('Ruby on Rails: Why We Should Move On  ', 60),\n",
              " '11:30 AM': ('User Interface CSS in Rails Apps  ', 30),\n",
              " '12:00 PM': 'Lunch'}"
            ]
          },
          "metadata": {},
          "execution_count": 26
        }
      ]
    },
    {
      "cell_type": "code",
      "source": [
        "updateTalksList(morningSession)"
      ],
      "metadata": {
        "colab": {
          "base_uri": "https://localhost:8080/"
        },
        "id": "__rLZpc467Ut",
        "outputId": "4f17f018-e0a0-434b-936e-191ab1d7e362"
      },
      "execution_count": 27,
      "outputs": [
        {
          "output_type": "execute_result",
          "data": {
            "text/plain": [
              "{'Rails Magic  ',\n",
              " 'Ruby on Rails: Why We Should Move On  ',\n",
              " 'User Interface CSS in Rails Apps  ',\n",
              " 'Woah  '}"
            ]
          },
          "metadata": {},
          "execution_count": 27
        }
      ]
    },
    {
      "cell_type": "code",
      "source": [
        "getRemainingMinutes(morning) / MORNING_SESSION_TOTAL_MINUTES\n",
        "# getRemainingMinutes(morning) / AFTERNOON_SESSION_TOTAL_MINUTES"
      ],
      "metadata": {
        "colab": {
          "base_uri": "https://localhost:8080/"
        },
        "id": "ADwvu_DDxagI",
        "outputId": "8a393660-21ee-4a1f-a0a3-6e514a2cdbdd"
      },
      "execution_count": 28,
      "outputs": [
        {
          "output_type": "execute_result",
          "data": {
            "text/plain": [
              "3.361111111111111"
            ]
          },
          "metadata": {},
          "execution_count": 28
        }
      ]
    },
    {
      "cell_type": "code",
      "source": [
        "2 * 480"
      ],
      "metadata": {
        "colab": {
          "base_uri": "https://localhost:8080/"
        },
        "id": "ZrIXD9U68om0",
        "outputId": "66f260b2-0892-4b38-ffae-edffcedabf6f"
      },
      "execution_count": 46,
      "outputs": [
        {
          "output_type": "execute_result",
          "data": {
            "text/plain": [
              "960"
            ]
          },
          "metadata": {},
          "execution_count": 46
        }
      ]
    },
    {
      "cell_type": "code",
      "source": [
        "785 / 180"
      ],
      "metadata": {
        "colab": {
          "base_uri": "https://localhost:8080/"
        },
        "id": "3gOVBbKc5Rg7",
        "outputId": "cca52da0-ec47-428c-dbe6-0bd5990eb3dd"
      },
      "execution_count": 47,
      "outputs": [
        {
          "output_type": "execute_result",
          "data": {
            "text/plain": [
              "4.361111111111111"
            ]
          },
          "metadata": {},
          "execution_count": 47
        }
      ]
    },
    {
      "cell_type": "code",
      "source": [
        "605 % 420"
      ],
      "metadata": {
        "colab": {
          "base_uri": "https://localhost:8080/"
        },
        "id": "SYjXjeoC86ut",
        "outputId": "8996bae5-855a-4f23-8dc4-35446c3515d3"
      },
      "execution_count": 50,
      "outputs": [
        {
          "output_type": "execute_result",
          "data": {
            "text/plain": [
              "185"
            ]
          },
          "metadata": {},
          "execution_count": 50
        }
      ]
    },
    {
      "cell_type": "code",
      "source": [
        "605 / 180 "
      ],
      "metadata": {
        "colab": {
          "base_uri": "https://localhost:8080/"
        },
        "id": "nhXZe-fk7jht",
        "outputId": "f64f01a1-30b1-4b78-f176-d36a441d7bf6"
      },
      "execution_count": 41,
      "outputs": [
        {
          "output_type": "execute_result",
          "data": {
            "text/plain": [
              "3.361111111111111"
            ]
          },
          "metadata": {},
          "execution_count": 41
        }
      ]
    },
    {
      "cell_type": "code",
      "source": [
        "talkTimeSum(talksDict.keys()) "
      ],
      "metadata": {
        "colab": {
          "base_uri": "https://localhost:8080/"
        },
        "id": "o69FGosV4DPr",
        "outputId": "264570cc-a865-4ce1-9ba5-a6aa3b665452"
      },
      "execution_count": 37,
      "outputs": [
        {
          "output_type": "execute_result",
          "data": {
            "text/plain": [
              "785"
            ]
          },
          "metadata": {},
          "execution_count": 37
        }
      ]
    },
    {
      "cell_type": "code",
      "source": [
        "import collections\n",
        "tracks = collections.defaultdict(dict)\n",
        "\n",
        "while talkTimeSum(talks_set != 0):\n",
        "  id = 1\n",
        "  tracks[id] = {}\n",
        "  for talks in subsetSum(MORNING_SESSION_TOTAL_MINUTES,talks_set):\n",
        "    tracks[id][get_time(MORNING_SESSION_START_TIME)] = talks, talksDict[talks]\n",
        "    tracks[id][add_minutes_toTime(talksDict[talks])] = "
      ],
      "metadata": {
        "id": "1-f8D7CCMG4-"
      },
      "execution_count": null,
      "outputs": []
    }
  ]
}