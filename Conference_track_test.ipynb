{
  "nbformat": 4,
  "nbformat_minor": 0,
  "metadata": {
    "colab": {
      "name": "Conference track test.ipynb",
      "provenance": [],
      "collapsed_sections": [],
      "toc_visible": true,
      "authorship_tag": "ABX9TyP9C+exq5gKi54+kQwXl8oZ",
      "include_colab_link": true
    },
    "kernelspec": {
      "name": "python3",
      "display_name": "Python 3"
    },
    "language_info": {
      "name": "python"
    }
  },
  "cells": [
    {
      "cell_type": "markdown",
      "metadata": {
        "id": "view-in-github",
        "colab_type": "text"
      },
      "source": [
        "<a href=\"https://colab.research.google.com/github/mvdheram/Conference-Track-Management-/blob/main/Conference_track_test.ipynb\" target=\"_parent\"><img src=\"https://colab.research.google.com/assets/colab-badge.svg\" alt=\"Open In Colab\"/></a>"
      ]
    },
    {
      "cell_type": "markdown",
      "source": [
        "# Read inputs "
      ],
      "metadata": {
        "id": "UAXf90RWC2UF"
      }
    },
    {
      "cell_type": "code",
      "source": [
        "def readFromFile(file_name):\n",
        "  file = open(file_name,'r')\n",
        "  try:\n",
        "    text = file.read()\n",
        "    return text\n",
        "  except IOError:\n",
        "    return False\n",
        "  finally:\n",
        "    file.close()"
      ],
      "metadata": {
        "id": "kyPEdbPsUqfR"
      },
      "execution_count": 1,
      "outputs": []
    },
    {
      "cell_type": "code",
      "source": [
        "txtfile = readFromFile('/content/Events_list.txt')"
      ],
      "metadata": {
        "id": "VO8YN65cZ5o_"
      },
      "execution_count": 2,
      "outputs": []
    },
    {
      "cell_type": "markdown",
      "source": [
        "# Parse inputs into dict with talk_name and time"
      ],
      "metadata": {
        "id": "J8yEMSxqC81I"
      }
    },
    {
      "cell_type": "code",
      "source": [
        "# Constants\n",
        "MORNING_SESSION_TOTAL_MINUTES = 180\n",
        "LUNCH_SESSION_TOTAL_MINUTES = 60\n",
        "AFTERNOON_SESSION_TOTAL_MINUTES = 240 \n",
        "NETWORKING_SESSION_TOTAL_MINUTES = 60 - AFTERNOON_SESSION_TOTAL_MINUTES\n",
        "# >180 and <240 min\n",
        "ENDS_WITH_LIGHTNING_REGEX = \"lightning$\"\n",
        "ENDS_WITH_MINUTES_REGEX = \"\\d+min$\"\n",
        "NETWORKING_SESSION = 'Networking'\n",
        "LUNCH_SESSION = 'Lunch'\n",
        "\n",
        "\n",
        "MORNING_SESSION_START_TIME = 9\n",
        "LUNCH_SESSION_START_TIME = 12\n",
        "AFTERNOON_SESSION_START_TIME = 13\n",
        "NETWORKING_SESSION_START_TIME = 17\n",
        "LIGHTNING_MIN = 5"
      ],
      "metadata": {
        "id": "wecvNZ5kf4st"
      },
      "execution_count": 81,
      "outputs": []
    },
    {
      "cell_type": "code",
      "source": [
        "# Date_Time class\n",
        "from datetime import datetime, date, time, timedelta\n",
        "\n",
        "def get_time(hours):\n",
        "  return time(hours)\n",
        "\n",
        "def add_minutes_toTime(time,min):\n",
        "  return (datetime.combine(date.today(),time)+ timedelta(minutes=int(min))).time()\n",
        "\n",
        "def format_time(time):\n",
        "  return time.strftime(\"%I:%M %p\")"
      ],
      "metadata": {
        "id": "y29DXQNu-8Id"
      },
      "execution_count": 101,
      "outputs": []
    },
    {
      "cell_type": "code",
      "source": [
        "from typing_extensions import OrderedDict\n",
        "import re\n",
        "\n",
        "def parseTxtFile(textfile):\n",
        "  talks= OrderedDict()\n",
        "  lines = textfile.split('\\n')\n",
        "  for line in lines:\n",
        "    try:\n",
        "      if line.endswith('min'):\n",
        "        talk_event = re.sub(ENDS_WITH_MINUTES_REGEX,\" \",line)\n",
        "        talk_time = int(re.search(ENDS_WITH_MINUTES_REGEX,line).group(0).strip('min'))\n",
        "      else:\n",
        "        talk_event = re.sub(ENDS_WITH_LIGHTNING_REGEX,\" \",line)\n",
        "        talk_time = 5\n",
        "      talks[talk_event] = talk_time\n",
        "    except AttributeError:\n",
        "      pass\n",
        "  return talks  "
      ],
      "metadata": {
        "id": "yKcJT3z1cAtl"
      },
      "execution_count": 5,
      "outputs": []
    },
    {
      "cell_type": "code",
      "source": [
        "talksDict = parseTxtFile(txtfile)"
      ],
      "metadata": {
        "id": "vo-_tA8ynoBo"
      },
      "execution_count": 6,
      "outputs": []
    },
    {
      "cell_type": "markdown",
      "source": [
        "# Solver"
      ],
      "metadata": {
        "id": "_NlhW_Z7DjB2"
      }
    },
    {
      "cell_type": "code",
      "source": [
        "talksDict"
      ],
      "metadata": {
        "colab": {
          "base_uri": "https://localhost:8080/"
        },
        "id": "Jx4Rp_PXnmUk",
        "outputId": "5319308d-98ea-4b66-e42c-f7147bdfc7e9"
      },
      "execution_count": 32,
      "outputs": [
        {
          "output_type": "execute_result",
          "data": {
            "text/plain": [
              "OrderedDict([('Writing Fast Tests Against Enterprise Rails  ', 60),\n",
              "             ('Overdoing it in Python  ', 45),\n",
              "             ('Lua for the Masses  ', 30),\n",
              "             ('Ruby Errors from Mismatched Gem Versions  ', 45),\n",
              "             ('Common Ruby Errors  ', 45),\n",
              "             ('Rails for Python Developers  ', 5),\n",
              "             ('Communicating Over Distance  ', 60),\n",
              "             ('Accounting-Driven Development  ', 45),\n",
              "             ('Woah  ', 30),\n",
              "             ('Sit Down and Write  ', 30),\n",
              "             ('Pair Programming vs Noise  ', 45),\n",
              "             ('Rails Magic  ', 60),\n",
              "             ('Ruby on Rails: Why We Should Move On  ', 60),\n",
              "             ('Clojure Ate Scala (on my project)  ', 45),\n",
              "             ('Programming in the Boondocks of Seattle  ', 30),\n",
              "             ('Ruby vs. Clojure for Back-End Development  ', 30),\n",
              "             ('Ruby on Rails Legacy App Maintenance  ', 60),\n",
              "             ('A World Without HackerNews  ', 30),\n",
              "             ('User Interface CSS in Rails Apps  ', 30)])"
            ]
          },
          "metadata": {},
          "execution_count": 32
        }
      ]
    },
    {
      "cell_type": "code",
      "source": [
        "talksDict.values()"
      ],
      "metadata": {
        "colab": {
          "base_uri": "https://localhost:8080/"
        },
        "id": "9N-mNonen2_I",
        "outputId": "83223a90-7e5c-41e6-fd1c-662afc4f6f87"
      },
      "execution_count": 33,
      "outputs": [
        {
          "output_type": "execute_result",
          "data": {
            "text/plain": [
              "odict_values([60, 45, 30, 45, 45, 5, 60, 45, 30, 30, 45, 60, 60, 45, 30, 30, 60, 30, 30])"
            ]
          },
          "metadata": {},
          "execution_count": 33
        }
      ]
    },
    {
      "cell_type": "code",
      "source": [
        "talksDict.keys()"
      ],
      "metadata": {
        "colab": {
          "base_uri": "https://localhost:8080/"
        },
        "id": "b_hDBFPI1xwm",
        "outputId": "655197cc-6e1e-4da6-dbbb-f750bcf4f165"
      },
      "execution_count": 34,
      "outputs": [
        {
          "output_type": "execute_result",
          "data": {
            "text/plain": [
              "odict_keys(['Writing Fast Tests Against Enterprise Rails  ', 'Overdoing it in Python  ', 'Lua for the Masses  ', 'Ruby Errors from Mismatched Gem Versions  ', 'Common Ruby Errors  ', 'Rails for Python Developers  ', 'Communicating Over Distance  ', 'Accounting-Driven Development  ', 'Woah  ', 'Sit Down and Write  ', 'Pair Programming vs Noise  ', 'Rails Magic  ', 'Ruby on Rails: Why We Should Move On  ', 'Clojure Ate Scala (on my project)  ', 'Programming in the Boondocks of Seattle  ', 'Ruby vs. Clojure for Back-End Development  ', 'Ruby on Rails Legacy App Maintenance  ', 'A World Without HackerNews  ', 'User Interface CSS in Rails Apps  '])"
            ]
          },
          "metadata": {},
          "execution_count": 34
        }
      ]
    },
    {
      "cell_type": "code",
      "source": [
        "talks_set = set(talksDict.keys())"
      ],
      "metadata": {
        "id": "NYzxwF6Qhhw9"
      },
      "execution_count": 35,
      "outputs": []
    },
    {
      "cell_type": "code",
      "source": [
        "def talkTimeSum(tp):\n",
        "  return sum([talksDict[key] for key in tp])"
      ],
      "metadata": {
        "id": "FYOpUWpmhekR"
      },
      "execution_count": 36,
      "outputs": []
    },
    {
      "cell_type": "code",
      "source": [
        "from itertools import cycle\n",
        "\n",
        "def subsetSum(sessionTotalMinutes, talks):\n",
        "  cumsum = 0\n",
        "  session = []\n",
        "  target  = sessionTotalMinutes\n",
        "  temp_keys = []\n",
        "\n",
        "  iterator = cycle(talks_set)\n",
        "  session.clear()\n",
        "\n",
        "  for talk in iterator:\n",
        "    cumsum = talkTimeSum(temp_keys)\n",
        "\n",
        "    if cumsum < target:\n",
        "      temp_keys.append(talk)\n",
        "\n",
        "    elif cumsum == target:\n",
        "      return set(temp_keys)\n",
        "\n",
        "    elif cumsum > target:\n",
        "      temp_keys.pop(0)\n",
        "\n",
        "  return session"
      ],
      "metadata": {
        "id": "pIMtxSaFiSIm"
      },
      "execution_count": 47,
      "outputs": []
    },
    {
      "cell_type": "code",
      "source": [
        "def updateTalksList(sessionTalks):\n",
        "  global talks_set \n",
        "  if len(talks_set) is not None:\n",
        "     talks_set = talks_set.difference(sessionTalks)\n",
        "     return talks_set\n",
        "  else:\n",
        "    return 0"
      ],
      "metadata": {
        "id": "ZS3azIXBmSYP"
      },
      "execution_count": 48,
      "outputs": []
    },
    {
      "cell_type": "code",
      "source": [
        "morningSession = subsetSum(MORNING_SESSION_TOTAL_MINUTES,talks_set)"
      ],
      "metadata": {
        "id": "DGI9WsUmk2Qx"
      },
      "execution_count": 49,
      "outputs": []
    },
    {
      "cell_type": "code",
      "source": [
        "morningSession"
      ],
      "metadata": {
        "colab": {
          "base_uri": "https://localhost:8080/"
        },
        "id": "8wQPkbb-j_Vk",
        "outputId": "68ff3601-132a-407b-e186-4784c2924da6"
      },
      "execution_count": 50,
      "outputs": [
        {
          "output_type": "execute_result",
          "data": {
            "text/plain": [
              "{'Clojure Ate Scala (on my project)  ',\n",
              " 'Lua for the Masses  ',\n",
              " 'Pair Programming vs Noise  ',\n",
              " 'Writing Fast Tests Against Enterprise Rails  '}"
            ]
          },
          "metadata": {},
          "execution_count": 50
        }
      ]
    },
    {
      "cell_type": "code",
      "source": [
        "eveningSession = subsetSum(AFTERNOON_SESSION_TOTAL_MINUTES,updateTalksList(morningSession))"
      ],
      "metadata": {
        "id": "aTvy-JjOyorU"
      },
      "execution_count": 51,
      "outputs": []
    },
    {
      "cell_type": "code",
      "source": [
        "eveningSession2 = subsetSum(185,updateTalksList(eveningSession))"
      ],
      "metadata": {
        "id": "ZpM94w63l9gi"
      },
      "execution_count": 52,
      "outputs": []
    },
    {
      "cell_type": "code",
      "source": [
        "eveningSession"
      ],
      "metadata": {
        "colab": {
          "base_uri": "https://localhost:8080/"
        },
        "id": "45xeRNfdkTsi",
        "outputId": "038d125c-4ae9-4391-8c1d-49d83537391e"
      },
      "execution_count": 53,
      "outputs": [
        {
          "output_type": "execute_result",
          "data": {
            "text/plain": [
              "{'Common Ruby Errors  ',\n",
              " 'Communicating Over Distance  ',\n",
              " 'Overdoing it in Python  ',\n",
              " 'Ruby on Rails Legacy App Maintenance  ',\n",
              " 'Sit Down and Write  '}"
            ]
          },
          "metadata": {},
          "execution_count": 53
        }
      ]
    },
    {
      "cell_type": "code",
      "source": [
        "eveningSession2"
      ],
      "metadata": {
        "colab": {
          "base_uri": "https://localhost:8080/"
        },
        "id": "XgdplE_zqU_k",
        "outputId": "0ec6e67a-0a4a-4cce-b6c5-65c3166c9be0"
      },
      "execution_count": 54,
      "outputs": [
        {
          "output_type": "execute_result",
          "data": {
            "text/plain": [
              "{'Accounting-Driven Development  ',\n",
              " 'Rails for Python Developers  ',\n",
              " 'Ruby Errors from Mismatched Gem Versions  ',\n",
              " 'Ruby on Rails: Why We Should Move On  ',\n",
              " 'Woah  '}"
            ]
          },
          "metadata": {},
          "execution_count": 54
        }
      ]
    },
    {
      "cell_type": "code",
      "source": [
        "morningSession2 = subsetSum(180,updateTalksList(eveningSession2))"
      ],
      "metadata": {
        "id": "a5pbisnBqYqk"
      },
      "execution_count": 55,
      "outputs": []
    },
    {
      "cell_type": "code",
      "source": [
        "morningSession2"
      ],
      "metadata": {
        "colab": {
          "base_uri": "https://localhost:8080/"
        },
        "id": "DSnhx8dTqu0_",
        "outputId": "6b9a0413-1a9e-470b-9899-7d58d862cdf6"
      },
      "execution_count": 56,
      "outputs": [
        {
          "output_type": "execute_result",
          "data": {
            "text/plain": [
              "{'A World Without HackerNews  ',\n",
              " 'Programming in the Boondocks of Seattle  ',\n",
              " 'Rails Magic  ',\n",
              " 'Ruby vs. Clojure for Back-End Development  ',\n",
              " 'User Interface CSS in Rails Apps  '}"
            ]
          },
          "metadata": {},
          "execution_count": 56
        }
      ]
    },
    {
      "cell_type": "markdown",
      "source": [
        "# Outputting "
      ],
      "metadata": {
        "id": "1MtdSFk7Dnha"
      }
    },
    {
      "cell_type": "code",
      "source": [
        "import numpy as np\n",
        "\n",
        "def getCumSum(talkList):\n",
        "  return list(np.cumsum(talkList))"
      ],
      "metadata": {
        "id": "oZtOWdf3TCQ3"
      },
      "execution_count": 113,
      "outputs": []
    },
    {
      "cell_type": "code",
      "source": [
        "def assignTimeTotalks(talkList, morning:bool):\n",
        "  talktime = {}\n",
        "\n",
        "  cumSum = getCumSum([talksDict[talk] for talk in talkList])\n",
        "  first_item = list(talkList)[0]\n",
        "\n",
        "  if morning == 1:\n",
        "     # Add first element to dict for calculating the cumulative sum \n",
        "    start_time = MORNING_SESSION_START_TIME\n",
        "    ends_with = LUNCH_SESSION\n",
        "    ends_with_start_time = LUNCH_SESSION_START_TIME\n",
        "    \n",
        "  else:\n",
        "    start_time = AFTERNOON_SESSION_START_TIME\n",
        "    ends_with = NETWORKING_SESSION\n",
        "    ends_with_start_time = NETWORKING_SESSION_START_TIME\n",
        "\n",
        "  talktime[format_time(get_time(start_time))] = first_item, talksDict[first_item]\n",
        "\n",
        "  for talk,cumsum in zip(list(talkList)[1:],cumSum) :\n",
        "    talktime[format_time(add_minutes_toTime(get_time(start_time),cumsum))] = talk, talksDict[talk]\n",
        "  talktime[format_time(get_time(ends_with_start_time))] = ends_with\n",
        "\n",
        "  return talktime"
      ],
      "metadata": {
        "id": "dRjpRaDaKTMP"
      },
      "execution_count": 153,
      "outputs": []
    },
    {
      "cell_type": "code",
      "source": [
        "morning =  subsetSum(MORNING_SESSION_TOTAL_MINUTES,talks_set)"
      ],
      "metadata": {
        "id": "M9CFTe3xbWZU"
      },
      "execution_count": 155,
      "outputs": []
    },
    {
      "cell_type": "code",
      "source": [
        "assignTimeTotalks(morning, 1)"
      ],
      "metadata": {
        "colab": {
          "base_uri": "https://localhost:8080/"
        },
        "id": "pnpIS1zPZR2Y",
        "outputId": "aa82cb65-f16a-492d-c065-5d8737cc6a73"
      },
      "execution_count": 156,
      "outputs": [
        {
          "output_type": "execute_result",
          "data": {
            "text/plain": [
              "{'09:00 AM': ('Programming in the Boondocks of Seattle  ', 30),\n",
              " '09:30 AM': ('Rails Magic  ', 60),\n",
              " '10:30 AM': ('A World Without HackerNews  ', 30),\n",
              " '11:00 AM': ('Ruby vs. Clojure for Back-End Development  ', 30),\n",
              " '11:30 AM': ('User Interface CSS in Rails Apps  ', 30),\n",
              " '12:00 PM': 'Lunch'}"
            ]
          },
          "metadata": {},
          "execution_count": 156
        }
      ]
    },
    {
      "cell_type": "code",
      "source": [
        "import collections\n",
        "tracks = collections.defaultdict(dict)\n",
        "\n",
        "while talkTimeSum(talks_set != 0):\n",
        "  id = 1\n",
        "  tracks[id] = {}\n",
        "  for talks in subsetSum(MORNING_SESSION_TOTAL_MINUTES,talks_set):\n",
        "    tracks[id][get_time(MORNING_SESSION_START_TIME)] = talks, talksDict[talks]\n",
        "    tracks[id][add_minutes_toTime(talksDict[talks])] = "
      ],
      "metadata": {
        "id": "1-f8D7CCMG4-"
      },
      "execution_count": null,
      "outputs": []
    }
  ]
}