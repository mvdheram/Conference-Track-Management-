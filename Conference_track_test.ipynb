{
  "nbformat": 4,
  "nbformat_minor": 0,
  "metadata": {
    "colab": {
      "name": "Conference track test.ipynb",
      "provenance": [],
      "collapsed_sections": [],
      "authorship_tag": "ABX9TyP0eCjdUeDnZ5P/huczVJWd",
      "include_colab_link": true
    },
    "kernelspec": {
      "name": "python3",
      "display_name": "Python 3"
    },
    "language_info": {
      "name": "python"
    }
  },
  "cells": [
    {
      "cell_type": "markdown",
      "metadata": {
        "id": "view-in-github",
        "colab_type": "text"
      },
      "source": [
        "<a href=\"https://colab.research.google.com/github/mvdheram/Conference-Track-Management-/blob/main/Conference_track_test.ipynb\" target=\"_parent\"><img src=\"https://colab.research.google.com/assets/colab-badge.svg\" alt=\"Open In Colab\"/></a>"
      ]
    },
    {
      "cell_type": "markdown",
      "source": [
        "# Read inputs "
      ],
      "metadata": {
        "id": "UAXf90RWC2UF"
      }
    },
    {
      "cell_type": "code",
      "source": [
        "def readFromFile(file_name):\n",
        "  file = open(file_name,'r')\n",
        "  try:\n",
        "    text = file.read()\n",
        "    return text\n",
        "  except IOError:\n",
        "    return False\n",
        "  finally:\n",
        "    file.close()"
      ],
      "metadata": {
        "id": "kyPEdbPsUqfR"
      },
      "execution_count": 1,
      "outputs": []
    },
    {
      "cell_type": "code",
      "source": [
        "txtfile = readFromFile('/content/talks.txt')"
      ],
      "metadata": {
        "id": "VO8YN65cZ5o_"
      },
      "execution_count": 2,
      "outputs": []
    },
    {
      "cell_type": "markdown",
      "source": [
        "# Parse inputs into dict with talk_name and time"
      ],
      "metadata": {
        "id": "J8yEMSxqC81I"
      }
    },
    {
      "cell_type": "code",
      "source": [
        "# Constants\n",
        "MORNING_SESSION_TOTAL_MINUTES = 180\n",
        "LUNCH_SESSION_TOTAL_MINUTES = 60\n",
        "AFTERNOON_SESSION_TOTAL_MINUTES = 240  # 1PM to 5PM\n",
        "NETWORKING_SESSION_TOTAL_MINUTES = 60 - AFTERNOON_SESSION_TOTAL_MINUTES # >180 and <240 min\n",
        "TOTAL_MINUTES_PER_TRACK = 420 # 9Pm - 12PM (morning) + Lunch + 1AM - 5PM (afternoon)\n",
        "\n",
        "ENDS_WITH_LIGHTNING_REGEX = \"lightning$\"\n",
        "ENDS_WITH_MINUTES_REGEX = \"\\d+min$\"\n",
        "NETWORKING_SESSION = 'Networking'\n",
        "LUNCH_SESSION = 'Lunch'\n",
        "\n",
        "\n",
        "MORNING_SESSION_START_TIME = 9\n",
        "LUNCH_SESSION_START_TIME = 12\n",
        "AFTERNOON_SESSION_START_TIME = 13\n",
        "NETWORKING_SESSION_START_TIME = 17\n",
        "LIGHTNING_MIN = 5"
      ],
      "metadata": {
        "id": "wecvNZ5kf4st"
      },
      "execution_count": 164,
      "outputs": []
    },
    {
      "cell_type": "code",
      "source": [
        "# Date_Time class\n",
        "from datetime import datetime, date, time, timedelta\n",
        "\n",
        "def get_time(hours):\n",
        "  return time(hours)\n",
        "\n",
        "def add_minutes_toTime(time,min):\n",
        "  return (datetime.combine(date.today(),time)+ timedelta(minutes=int(min))).time()\n",
        "\n",
        "def format_time(time):\n",
        "  return time.strftime(\"%I:%M %p\")"
      ],
      "metadata": {
        "id": "y29DXQNu-8Id"
      },
      "execution_count": 165,
      "outputs": []
    },
    {
      "cell_type": "code",
      "source": [
        "from typing_extensions import OrderedDict\n",
        "import re\n",
        "\n",
        "def parseTxtFile(textfile):\n",
        "  talks= OrderedDict()\n",
        "  lines = textfile.split('\\n')\n",
        "  for line in lines:\n",
        "    try:\n",
        "      if line.endswith('min'):\n",
        "        talk_event = re.sub(ENDS_WITH_MINUTES_REGEX,\" \",line)\n",
        "        talk_time = int(re.search(ENDS_WITH_MINUTES_REGEX,line).group(0).strip('min'))\n",
        "      else:\n",
        "        talk_event = re.sub(ENDS_WITH_LIGHTNING_REGEX,\" \",line)\n",
        "        talk_time = 5\n",
        "      talks[talk_event] = talk_time\n",
        "    except AttributeError:\n",
        "      pass\n",
        "  return talks  "
      ],
      "metadata": {
        "id": "yKcJT3z1cAtl"
      },
      "execution_count": 166,
      "outputs": []
    },
    {
      "cell_type": "code",
      "source": [
        "talksDict = parseTxtFile(txtfile)"
      ],
      "metadata": {
        "id": "vo-_tA8ynoBo"
      },
      "execution_count": 6,
      "outputs": []
    },
    {
      "cell_type": "markdown",
      "source": [
        "# Solver"
      ],
      "metadata": {
        "id": "_NlhW_Z7DjB2"
      }
    },
    {
      "cell_type": "code",
      "source": [
        "talksDict"
      ],
      "metadata": {
        "colab": {
          "base_uri": "https://localhost:8080/"
        },
        "id": "Jx4Rp_PXnmUk",
        "outputId": "07b0ed01-8350-4a38-cefc-e6a49b805fdc"
      },
      "execution_count": 7,
      "outputs": [
        {
          "output_type": "execute_result",
          "data": {
            "text/plain": [
              "OrderedDict([('Writing Fast Tests Against Enterprise Rails  ', 60),\n",
              "             ('Overdoing it in Python  ', 45),\n",
              "             ('Lua for the Masses  ', 30),\n",
              "             ('Ruby Errors from Mismatched Gem Versions  ', 45),\n",
              "             ('Common Ruby Errors  ', 45),\n",
              "             ('Rails for Python Developers  ', 5),\n",
              "             ('Communicating Over Distance  ', 60),\n",
              "             ('Accounting-Driven Development  ', 45),\n",
              "             ('Woah  ', 30),\n",
              "             ('Sit Down and Write  ', 30),\n",
              "             ('Pair Programming vs Noise  ', 45),\n",
              "             ('Rails Magic  ', 60),\n",
              "             ('Ruby on Rails: Why We Should Move On  ', 60),\n",
              "             ('Clojure Ate Scala (on my project)  ', 45),\n",
              "             ('Programming in the Boondocks of Seattle  ', 30),\n",
              "             ('Ruby vs. Clojure for Back-End Development  ', 30),\n",
              "             ('Ruby on Rails Legacy App Maintenance  ', 60),\n",
              "             ('A World Without HackerNews  ', 30),\n",
              "             ('User Interface CSS in Rails Apps  ', 30)])"
            ]
          },
          "metadata": {},
          "execution_count": 7
        }
      ]
    },
    {
      "cell_type": "code",
      "source": [
        "talksDict.values()"
      ],
      "metadata": {
        "colab": {
          "base_uri": "https://localhost:8080/"
        },
        "id": "9N-mNonen2_I",
        "outputId": "c56c8266-6530-4bfd-9cc2-988fc89d6ae4"
      },
      "execution_count": 8,
      "outputs": [
        {
          "output_type": "execute_result",
          "data": {
            "text/plain": [
              "odict_values([60, 45, 30, 45, 45, 5, 60, 45, 30, 30, 45, 60, 60, 45, 30, 30, 60, 30, 30])"
            ]
          },
          "metadata": {},
          "execution_count": 8
        }
      ]
    },
    {
      "cell_type": "code",
      "source": [
        "talksDict.keys()"
      ],
      "metadata": {
        "colab": {
          "base_uri": "https://localhost:8080/"
        },
        "id": "b_hDBFPI1xwm",
        "outputId": "7dc4ee8a-58a0-4472-9c1d-1ce5df35c0d1"
      },
      "execution_count": 9,
      "outputs": [
        {
          "output_type": "execute_result",
          "data": {
            "text/plain": [
              "odict_keys(['Writing Fast Tests Against Enterprise Rails  ', 'Overdoing it in Python  ', 'Lua for the Masses  ', 'Ruby Errors from Mismatched Gem Versions  ', 'Common Ruby Errors  ', 'Rails for Python Developers  ', 'Communicating Over Distance  ', 'Accounting-Driven Development  ', 'Woah  ', 'Sit Down and Write  ', 'Pair Programming vs Noise  ', 'Rails Magic  ', 'Ruby on Rails: Why We Should Move On  ', 'Clojure Ate Scala (on my project)  ', 'Programming in the Boondocks of Seattle  ', 'Ruby vs. Clojure for Back-End Development  ', 'Ruby on Rails Legacy App Maintenance  ', 'A World Without HackerNews  ', 'User Interface CSS in Rails Apps  '])"
            ]
          },
          "metadata": {},
          "execution_count": 9
        }
      ]
    },
    {
      "cell_type": "code",
      "source": [
        "talks_set = set(talksDict.keys())"
      ],
      "metadata": {
        "id": "NYzxwF6Qhhw9"
      },
      "execution_count": 10,
      "outputs": []
    },
    {
      "cell_type": "code",
      "source": [
        "def talkTimeSum(tp):\n",
        "  return sum([talksDict[key] for key in tp])"
      ],
      "metadata": {
        "id": "FYOpUWpmhekR"
      },
      "execution_count": 11,
      "outputs": []
    },
    {
      "cell_type": "code",
      "source": [
        "from itertools import cycle\n",
        "\n",
        "def subsetSum(sessionTotalMinutes, talks):\n",
        "  cumsum = 0\n",
        "  session = []\n",
        "  target  = sessionTotalMinutes\n",
        "  temp_keys = []\n",
        "\n",
        "  iterator = cycle(talks_set)\n",
        "  session.clear()\n",
        "\n",
        "  for talk in iterator:\n",
        "    cumsum = talkTimeSum(temp_keys)\n",
        "\n",
        "    if cumsum < target:\n",
        "      temp_keys.append(talk)\n",
        "\n",
        "    elif cumsum == target:\n",
        "      return set(temp_keys)\n",
        "\n",
        "    elif cumsum > target:\n",
        "      temp_keys.pop(0)\n",
        "\n",
        "  return session"
      ],
      "metadata": {
        "id": "pIMtxSaFiSIm"
      },
      "execution_count": 12,
      "outputs": []
    },
    {
      "cell_type": "code",
      "source": [
        "def updateTalksList(sessionTalks):\n",
        "  global talks_set \n",
        "  if len(talks_set) is not None:\n",
        "     talks_set = talks_set.difference(sessionTalks)\n",
        "     return talks_set\n",
        "  else:\n",
        "    return 0"
      ],
      "metadata": {
        "id": "ZS3azIXBmSYP"
      },
      "execution_count": 13,
      "outputs": []
    },
    {
      "cell_type": "code",
      "source": [
        "morningSession = subsetSum(MORNING_SESSION_TOTAL_MINUTES,talks_set)"
      ],
      "metadata": {
        "id": "DGI9WsUmk2Qx"
      },
      "execution_count": 14,
      "outputs": []
    },
    {
      "cell_type": "code",
      "source": [
        "morningSession"
      ],
      "metadata": {
        "colab": {
          "base_uri": "https://localhost:8080/"
        },
        "id": "8wQPkbb-j_Vk",
        "outputId": "ca933026-9dec-428b-aa9a-49e335815756"
      },
      "execution_count": 15,
      "outputs": [
        {
          "output_type": "execute_result",
          "data": {
            "text/plain": [
              "{'Clojure Ate Scala (on my project)  ',\n",
              " 'Ruby Errors from Mismatched Gem Versions  ',\n",
              " 'Ruby vs. Clojure for Back-End Development  ',\n",
              " 'Sit Down and Write  ',\n",
              " 'Woah  '}"
            ]
          },
          "metadata": {},
          "execution_count": 15
        }
      ]
    },
    {
      "cell_type": "code",
      "source": [
        "eveningSession = subsetSum(AFTERNOON_SESSION_TOTAL_MINUTES,updateTalksList(morningSession))"
      ],
      "metadata": {
        "id": "aTvy-JjOyorU"
      },
      "execution_count": 16,
      "outputs": []
    },
    {
      "cell_type": "code",
      "source": [
        "eveningSession2 = subsetSum(185,updateTalksList(eveningSession))"
      ],
      "metadata": {
        "id": "ZpM94w63l9gi"
      },
      "execution_count": 17,
      "outputs": []
    },
    {
      "cell_type": "code",
      "source": [
        "eveningSession"
      ],
      "metadata": {
        "colab": {
          "base_uri": "https://localhost:8080/"
        },
        "id": "45xeRNfdkTsi",
        "outputId": "9431b7b1-c3dd-4bb8-893a-06b00acd322d"
      },
      "execution_count": 18,
      "outputs": [
        {
          "output_type": "execute_result",
          "data": {
            "text/plain": [
              "{'A World Without HackerNews  ',\n",
              " 'Common Ruby Errors  ',\n",
              " 'Communicating Over Distance  ',\n",
              " 'Overdoing it in Python  ',\n",
              " 'Rails Magic  '}"
            ]
          },
          "metadata": {},
          "execution_count": 18
        }
      ]
    },
    {
      "cell_type": "code",
      "source": [
        "eveningSession2"
      ],
      "metadata": {
        "colab": {
          "base_uri": "https://localhost:8080/"
        },
        "id": "XgdplE_zqU_k",
        "outputId": "9e937119-9ec9-4acd-fac2-1f943d0fcc54"
      },
      "execution_count": 19,
      "outputs": [
        {
          "output_type": "execute_result",
          "data": {
            "text/plain": [
              "{'Lua for the Masses  ',\n",
              " 'Rails for Python Developers  ',\n",
              " 'Ruby on Rails Legacy App Maintenance  ',\n",
              " 'Ruby on Rails: Why We Should Move On  ',\n",
              " 'User Interface CSS in Rails Apps  '}"
            ]
          },
          "metadata": {},
          "execution_count": 19
        }
      ]
    },
    {
      "cell_type": "code",
      "source": [
        "morningSession2 = subsetSum(180,updateTalksList(eveningSession2))"
      ],
      "metadata": {
        "id": "a5pbisnBqYqk"
      },
      "execution_count": 20,
      "outputs": []
    },
    {
      "cell_type": "code",
      "source": [
        "morningSession2"
      ],
      "metadata": {
        "colab": {
          "base_uri": "https://localhost:8080/"
        },
        "id": "DSnhx8dTqu0_",
        "outputId": "f884bd1b-a944-4b34-a708-4e211fcf8423"
      },
      "execution_count": 21,
      "outputs": [
        {
          "output_type": "execute_result",
          "data": {
            "text/plain": [
              "{'Accounting-Driven Development  ',\n",
              " 'Pair Programming vs Noise  ',\n",
              " 'Programming in the Boondocks of Seattle  ',\n",
              " 'Writing Fast Tests Against Enterprise Rails  '}"
            ]
          },
          "metadata": {},
          "execution_count": 21
        }
      ]
    },
    {
      "cell_type": "markdown",
      "source": [
        "# Outputting "
      ],
      "metadata": {
        "id": "1MtdSFk7Dnha"
      }
    },
    {
      "cell_type": "code",
      "source": [
        "def getRemainingMinutes(talkList):\n",
        "  return talkTimeSum(talksDict.keys())- talkTimeSum(talkList)"
      ],
      "metadata": {
        "id": "YgxpDlshwtmD"
      },
      "execution_count": 22,
      "outputs": []
    },
    {
      "cell_type": "code",
      "source": [
        "import numpy as np\n",
        "\n",
        "def getCumSum(talkList):\n",
        "  return list(np.cumsum(talkList))"
      ],
      "metadata": {
        "id": "oZtOWdf3TCQ3"
      },
      "execution_count": 23,
      "outputs": []
    },
    {
      "cell_type": "code",
      "source": [
        "def assignTimeTotalks(talkList, morning:bool):\n",
        "  talktime = {}\n",
        "\n",
        "  cumSum = getCumSum([talksDict[talk] for talk in talkList])\n",
        "  first_item = list(talkList)[0]\n",
        "\n",
        "  if morning == 1:\n",
        "     # Add first element to dict for calculating the cumulative sum \n",
        "    start_time = MORNING_SESSION_START_TIME\n",
        "    ends_with = LUNCH_SESSION\n",
        "    ends_with_start_time = LUNCH_SESSION_START_TIME\n",
        "    \n",
        "  else:\n",
        "    start_time = AFTERNOON_SESSION_START_TIME\n",
        "    ends_with = NETWORKING_SESSION\n",
        "    ends_with_start_time = NETWORKING_SESSION_START_TIME\n",
        "\n",
        "  talktime[format_time(get_time(start_time))] = first_item, talksDict[first_item]\n",
        "\n",
        "  for talk,cumsum in zip(list(talkList)[1:],cumSum) :\n",
        "    talktime[format_time(add_minutes_toTime(get_time(start_time),cumsum))] = talk, talksDict[talk]\n",
        "  talktime[format_time(get_time(ends_with_start_time))] = ends_with\n",
        "\n",
        "  return talktime"
      ],
      "metadata": {
        "id": "dRjpRaDaKTMP"
      },
      "execution_count": 24,
      "outputs": []
    },
    {
      "cell_type": "code",
      "source": [
        "morning =  subsetSum(MORNING_SESSION_TOTAL_MINUTES,talks_set)"
      ],
      "metadata": {
        "id": "M9CFTe3xbWZU"
      },
      "execution_count": 25,
      "outputs": []
    },
    {
      "cell_type": "code",
      "source": [
        "assignTimeTotalks(morning, 1)"
      ],
      "metadata": {
        "colab": {
          "base_uri": "https://localhost:8080/"
        },
        "id": "Ln7gD8nAvhr1",
        "outputId": "5c695aff-f9b8-47e6-a1a2-769a7072631f"
      },
      "execution_count": 114,
      "outputs": [
        {
          "output_type": "execute_result",
          "data": {
            "text/plain": [
              "{'09:00 AM': ('Programming in the Boondocks of Seattle  ', 30),\n",
              " '09:30 AM': ('Writing Fast Tests Against Enterprise Rails  ', 60),\n",
              " '10:30 AM': ('Accounting-Driven Development  ', 45),\n",
              " '11:15 AM': ('Pair Programming vs Noise  ', 45),\n",
              " '12:00 PM': 'Lunch'}"
            ]
          },
          "metadata": {},
          "execution_count": 114
        }
      ]
    },
    {
      "cell_type": "code",
      "source": [
        "getTrackTime(assignTimeTotalks(morning, 1))"
      ],
      "metadata": {
        "colab": {
          "base_uri": "https://localhost:8080/"
        },
        "id": "pnpIS1zPZR2Y",
        "outputId": "09dc57d5-b243-4ca9-9020-aea16b0b90cd"
      },
      "execution_count": 162,
      "outputs": [
        {
          "output_type": "execute_result",
          "data": {
            "text/plain": [
              "180"
            ]
          },
          "metadata": {},
          "execution_count": 162
        }
      ]
    },
    {
      "cell_type": "code",
      "source": [
        "updateTalksList(morningSession)"
      ],
      "metadata": {
        "colab": {
          "base_uri": "https://localhost:8080/"
        },
        "id": "__rLZpc467Ut",
        "outputId": "4f17f018-e0a0-434b-936e-191ab1d7e362"
      },
      "execution_count": null,
      "outputs": [
        {
          "output_type": "execute_result",
          "data": {
            "text/plain": [
              "{'Rails Magic  ',\n",
              " 'Ruby on Rails: Why We Should Move On  ',\n",
              " 'User Interface CSS in Rails Apps  ',\n",
              " 'Woah  '}"
            ]
          },
          "metadata": {},
          "execution_count": 27
        }
      ]
    },
    {
      "cell_type": "code",
      "source": [
        "import math \n",
        "\n",
        "def getNumberOfTracks():\n",
        "  numOfTracks = math.ceil(totalTalkTime() / TOTAL_MINUTES_PER_TRACK)\n",
        "  return numOfTracks"
      ],
      "metadata": {
        "id": "hdYGIIGPaqgB"
      },
      "execution_count": 109,
      "outputs": []
    },
    {
      "cell_type": "code",
      "source": [
        "def getTrackTime(track):\n",
        "  temp = []\n",
        "  # return sum([value[-1] if type(value) is tuple else '' for value in track.values()])\n",
        "  for value in track.values():\n",
        "    if type(value) is tuple:\n",
        "      temp.append(value[-1])\n",
        "    else:\n",
        "      continue\n",
        "  return sum(temp) "
      ],
      "metadata": {
        "id": "XO9OOA1tl3hG"
      },
      "execution_count": 169,
      "outputs": []
    },
    {
      "cell_type": "code",
      "source": [
        "def getAfternoontime(morningTime):\n",
        "    AfternoonTimePerTrack = TOTAL_MINUTES_PER_TRACK - morningTime\n",
        "    return AfternoonTimePerTrack"
      ],
      "metadata": {
        "id": "1cONWiv_PFCD"
      },
      "execution_count": null,
      "outputs": []
    },
    {
      "cell_type": "code",
      "source": [
        "def TotalTalkTime():\n",
        "  return talkTimeSum(talksDict.keys())"
      ],
      "metadata": {
        "id": "0NWbSPIN-8ER"
      },
      "execution_count": 170,
      "outputs": []
    },
    {
      "cell_type": "code",
      "source": [
        "def getRemainingTime(track):\n",
        "  if getNumberOfTracks() > 1:\n",
        "     remainingTime = TotalTalkTime() - getTrackTime(track)\n",
        "     return remainingTime"
      ],
      "metadata": {
        "id": "9rFcrwMd-CK9"
      },
      "execution_count": null,
      "outputs": []
    },
    {
      "cell_type": "code",
      "source": [
        "getRemainingMinutes(morning) / MORNING_SESSION_TOTAL_MINUTES\n",
        "# getRemainingMinutes(morning) / AFTERNOON_SESSION_TOTAL_MINUTES"
      ],
      "metadata": {
        "colab": {
          "base_uri": "https://localhost:8080/"
        },
        "id": "ADwvu_DDxagI",
        "outputId": "8a393660-21ee-4a1f-a0a3-6e514a2cdbdd"
      },
      "execution_count": null,
      "outputs": [
        {
          "output_type": "execute_result",
          "data": {
            "text/plain": [
              "3.361111111111111"
            ]
          },
          "metadata": {},
          "execution_count": 28
        }
      ]
    },
    {
      "cell_type": "code",
      "source": [
        "180 +240 "
      ],
      "metadata": {
        "colab": {
          "base_uri": "https://localhost:8080/"
        },
        "id": "U8McOIA1YkLD",
        "outputId": "9810fc01-d58c-4eab-c697-b5dec4f49c2c"
      },
      "execution_count": 73,
      "outputs": [
        {
          "output_type": "execute_result",
          "data": {
            "text/plain": [
              "420"
            ]
          },
          "metadata": {},
          "execution_count": 73
        }
      ]
    },
    {
      "cell_type": "code",
      "source": [
        "420 - 180"
      ],
      "metadata": {
        "colab": {
          "base_uri": "https://localhost:8080/"
        },
        "id": "r5jo8UnCZKs8",
        "outputId": "877c6f35-5494-4b62-ee57-19a77f6a022d"
      },
      "execution_count": 74,
      "outputs": [
        {
          "output_type": "execute_result",
          "data": {
            "text/plain": [
              "240"
            ]
          },
          "metadata": {},
          "execution_count": 74
        }
      ]
    },
    {
      "cell_type": "code",
      "source": [
        "785 - 420"
      ],
      "metadata": {
        "colab": {
          "base_uri": "https://localhost:8080/"
        },
        "id": "L6cBTtW0ZNNf",
        "outputId": "7ecb0df9-f3f6-4d19-a13b-012934894562"
      },
      "execution_count": 76,
      "outputs": [
        {
          "output_type": "execute_result",
          "data": {
            "text/plain": [
              "365"
            ]
          },
          "metadata": {},
          "execution_count": 76
        }
      ]
    },
    {
      "cell_type": "code",
      "source": [
        "math.floor(785 / 420)"
      ],
      "metadata": {
        "colab": {
          "base_uri": "https://localhost:8080/",
          "height": 165
        },
        "id": "mHpPVnkkWn6X",
        "outputId": "b13338f7-dbea-45d9-efcc-9ee2c02aac9c"
      },
      "execution_count": 174,
      "outputs": [
        {
          "output_type": "error",
          "ename": "NameError",
          "evalue": "ignored",
          "traceback": [
            "\u001b[0;31m---------------------------------------------------------------------------\u001b[0m",
            "\u001b[0;31mNameError\u001b[0m                                 Traceback (most recent call last)",
            "\u001b[0;32m<ipython-input-174-86ea3ccfbcce>\u001b[0m in \u001b[0;36m<module>\u001b[0;34m()\u001b[0m\n\u001b[0;32m----> 1\u001b[0;31m \u001b[0mfloor\u001b[0m\u001b[0;34m(\u001b[0m\u001b[0;36m785\u001b[0m \u001b[0;34m/\u001b[0m \u001b[0;36m420\u001b[0m\u001b[0;34m)\u001b[0m\u001b[0;34m\u001b[0m\u001b[0;34m\u001b[0m\u001b[0m\n\u001b[0m",
            "\u001b[0;31mNameError\u001b[0m: name 'floor' is not defined"
          ]
        }
      ]
    },
    {
      "cell_type": "code",
      "source": [
        "import math \n",
        "\n",
        "math.floor(785 / 420)"
      ],
      "metadata": {
        "colab": {
          "base_uri": "https://localhost:8080/"
        },
        "id": "AA5V8CBtXGFf",
        "outputId": "92acff91-ed4f-42ec-ddaa-f0e453089101"
      },
      "execution_count": 173,
      "outputs": [
        {
          "output_type": "execute_result",
          "data": {
            "text/plain": [
              "1"
            ]
          },
          "metadata": {},
          "execution_count": 173
        }
      ]
    },
    {
      "cell_type": "code",
      "source": [
        "420 /8"
      ],
      "metadata": {
        "colab": {
          "base_uri": "https://localhost:8080/"
        },
        "id": "M5eUbvw3ZvEQ",
        "outputId": "b80180ef-ac64-41e0-dfd3-3c6aaafbf762"
      },
      "execution_count": 79,
      "outputs": [
        {
          "output_type": "execute_result",
          "data": {
            "text/plain": [
              "52.5"
            ]
          },
          "metadata": {},
          "execution_count": 79
        }
      ]
    },
    {
      "cell_type": "code",
      "source": [
        "if 785 / 420 > 1:\n",
        "  print(\"yes\")"
      ],
      "metadata": {
        "colab": {
          "base_uri": "https://localhost:8080/"
        },
        "id": "Zos9hVywSDyw",
        "outputId": "58f5b3cf-d583-48e1-ef38-c6381ad66b61"
      },
      "execution_count": 94,
      "outputs": [
        {
          "output_type": "stream",
          "name": "stdout",
          "text": [
            "yes\n"
          ]
        }
      ]
    },
    {
      "cell_type": "code",
      "source": [
        "785 - 420 * 1"
      ],
      "metadata": {
        "colab": {
          "base_uri": "https://localhost:8080/"
        },
        "id": "S0r-vph-aOY7",
        "outputId": "923eb723-84fa-4a8e-8b3c-310c0305f581"
      },
      "execution_count": 90,
      "outputs": [
        {
          "output_type": "execute_result",
          "data": {
            "text/plain": [
              "365"
            ]
          },
          "metadata": {},
          "execution_count": 90
        }
      ]
    },
    {
      "cell_type": "code",
      "source": [
        "420 + 365"
      ],
      "metadata": {
        "colab": {
          "base_uri": "https://localhost:8080/"
        },
        "id": "r4eVU3L7bhXE",
        "outputId": "918a55fb-5d67-4096-f24d-50ee9fdf29cc"
      },
      "execution_count": 92,
      "outputs": [
        {
          "output_type": "execute_result",
          "data": {
            "text/plain": [
              "785"
            ]
          },
          "metadata": {},
          "execution_count": 92
        }
      ]
    },
    {
      "cell_type": "code",
      "source": [
        "475 + 420"
      ],
      "metadata": {
        "colab": {
          "base_uri": "https://localhost:8080/"
        },
        "id": "owTyC703cDRW",
        "outputId": "ce5ee0e2-8469-47d7-e1dd-4c2210b434c9"
      },
      "execution_count": 89,
      "outputs": [
        {
          "output_type": "execute_result",
          "data": {
            "text/plain": [
              "895"
            ]
          },
          "metadata": {},
          "execution_count": 89
        }
      ]
    },
    {
      "cell_type": "code",
      "source": [
        "480 - 180"
      ],
      "metadata": {
        "colab": {
          "base_uri": "https://localhost:8080/"
        },
        "id": "Cdj1wysDTs_7",
        "outputId": "a66890ff-efd1-46d6-997f-8f715718bd9f"
      },
      "execution_count": 68,
      "outputs": [
        {
          "output_type": "execute_result",
          "data": {
            "text/plain": [
              "300"
            ]
          },
          "metadata": {},
          "execution_count": 68
        }
      ]
    },
    {
      "cell_type": "code",
      "source": [
        "785 - 300"
      ],
      "metadata": {
        "colab": {
          "base_uri": "https://localhost:8080/"
        },
        "id": "Y_4r80mEWSWe",
        "outputId": "338b5ec0-da98-4a00-f25e-c4882d68debc"
      },
      "execution_count": 69,
      "outputs": [
        {
          "output_type": "execute_result",
          "data": {
            "text/plain": [
              "485"
            ]
          },
          "metadata": {},
          "execution_count": 69
        }
      ]
    },
    {
      "cell_type": "code",
      "source": [
        "480 - 180"
      ],
      "metadata": {
        "colab": {
          "base_uri": "https://localhost:8080/"
        },
        "id": "IqiFsVXFUvtF",
        "outputId": "fde86dd6-a8b8-4e66-e9dc-20734d74f005"
      },
      "execution_count": 65,
      "outputs": [
        {
          "output_type": "execute_result",
          "data": {
            "text/plain": [
              "300"
            ]
          },
          "metadata": {},
          "execution_count": 65
        }
      ]
    },
    {
      "cell_type": "code",
      "source": [
        "300 - 180"
      ],
      "metadata": {
        "colab": {
          "base_uri": "https://localhost:8080/"
        },
        "id": "3EeMEQCKUzkB",
        "outputId": "617acabe-cc85-420b-fd1b-86d14a8d97d8"
      },
      "execution_count": 66,
      "outputs": [
        {
          "output_type": "execute_result",
          "data": {
            "text/plain": [
              "120"
            ]
          },
          "metadata": {},
          "execution_count": 66
        }
      ]
    },
    {
      "cell_type": "code",
      "source": [
        "120 - 180"
      ],
      "metadata": {
        "colab": {
          "base_uri": "https://localhost:8080/"
        },
        "id": "RevM-QoDVAuK",
        "outputId": "98f67d1f-e21d-413b-851c-61761636260a"
      },
      "execution_count": 67,
      "outputs": [
        {
          "output_type": "execute_result",
          "data": {
            "text/plain": [
              "-60"
            ]
          },
          "metadata": {},
          "execution_count": 67
        }
      ]
    },
    {
      "cell_type": "code",
      "source": [
        "480 - 360"
      ],
      "metadata": {
        "colab": {
          "base_uri": "https://localhost:8080/"
        },
        "id": "z_X3Z1ZyUk95",
        "outputId": "d3374898-ea3a-4928-aacf-c8456287dc64"
      },
      "execution_count": 63,
      "outputs": [
        {
          "output_type": "execute_result",
          "data": {
            "text/plain": [
              "120"
            ]
          },
          "metadata": {},
          "execution_count": 63
        }
      ]
    },
    {
      "cell_type": "code",
      "source": [
        "180 /6"
      ],
      "metadata": {
        "colab": {
          "base_uri": "https://localhost:8080/"
        },
        "id": "wqwt9r7IUC2O",
        "outputId": "415f8ce1-365a-46d3-f44e-29397ca7bd8e"
      },
      "execution_count": 60,
      "outputs": [
        {
          "output_type": "execute_result",
          "data": {
            "text/plain": [
              "30.0"
            ]
          },
          "metadata": {},
          "execution_count": 60
        }
      ]
    },
    {
      "cell_type": "code",
      "source": [
        "360 +210"
      ],
      "metadata": {
        "colab": {
          "base_uri": "https://localhost:8080/"
        },
        "id": "hYyoR109UTb8",
        "outputId": "75e60bdd-d408-47d1-ec3c-625b425710f4"
      },
      "execution_count": 62,
      "outputs": [
        {
          "output_type": "execute_result",
          "data": {
            "text/plain": [
              "570"
            ]
          },
          "metadata": {},
          "execution_count": 62
        }
      ]
    },
    {
      "cell_type": "code",
      "source": [
        "180 + 30"
      ],
      "metadata": {
        "colab": {
          "base_uri": "https://localhost:8080/"
        },
        "id": "Go3zCGHxUG5S",
        "outputId": "7321404a-222e-4017-e05e-eb261cbb63c7"
      },
      "execution_count": 61,
      "outputs": [
        {
          "output_type": "execute_result",
          "data": {
            "text/plain": [
              "210"
            ]
          },
          "metadata": {},
          "execution_count": 61
        }
      ]
    },
    {
      "cell_type": "code",
      "source": [
        "360 / 240"
      ],
      "metadata": {
        "colab": {
          "base_uri": "https://localhost:8080/"
        },
        "id": "JG9tS6WXTvi5",
        "outputId": "a890618c-4d8d-49f0-8747-766624471f72"
      },
      "execution_count": 57,
      "outputs": [
        {
          "output_type": "execute_result",
          "data": {
            "text/plain": [
              "1.5"
            ]
          },
          "metadata": {},
          "execution_count": 57
        }
      ]
    },
    {
      "cell_type": "code",
      "source": [
        "4 * 180"
      ],
      "metadata": {
        "colab": {
          "base_uri": "https://localhost:8080/"
        },
        "id": "vtwRe2KwTN-Q",
        "outputId": "607ca3df-98fe-41ee-eb2e-4cb8a4b018a0"
      },
      "execution_count": 51,
      "outputs": [
        {
          "output_type": "execute_result",
          "data": {
            "text/plain": [
              "720"
            ]
          },
          "metadata": {},
          "execution_count": 51
        }
      ]
    },
    {
      "cell_type": "code",
      "source": [
        "180 + 42"
      ],
      "metadata": {
        "colab": {
          "base_uri": "https://localhost:8080/"
        },
        "id": "ynKuIP0fTh2U",
        "outputId": "5ca38e2b-f9ab-4265-b4a8-c79d1721adb2"
      },
      "execution_count": 55,
      "outputs": [
        {
          "output_type": "execute_result",
          "data": {
            "text/plain": [
              "222"
            ]
          },
          "metadata": {},
          "execution_count": 55
        }
      ]
    },
    {
      "cell_type": "code",
      "source": [
        "180/ (785 / 180)"
      ],
      "metadata": {
        "colab": {
          "base_uri": "https://localhost:8080/"
        },
        "id": "Wy762XdrTTJy",
        "outputId": "d4392a62-5939-4895-e52d-103fa6490ae3"
      },
      "execution_count": 53,
      "outputs": [
        {
          "output_type": "execute_result",
          "data": {
            "text/plain": [
              "41.27388535031847"
            ]
          },
          "metadata": {},
          "execution_count": 53
        }
      ]
    },
    {
      "cell_type": "code",
      "source": [
        "365- 180"
      ],
      "metadata": {
        "colab": {
          "base_uri": "https://localhost:8080/"
        },
        "id": "vd_XjcmpSIh3",
        "outputId": "daf3e120-55ed-4011-e26e-7d63445e1cc0"
      },
      "execution_count": 49,
      "outputs": [
        {
          "output_type": "execute_result",
          "data": {
            "text/plain": [
              "185"
            ]
          },
          "metadata": {},
          "execution_count": 49
        }
      ]
    },
    {
      "cell_type": "code",
      "source": [
        "talkTimeSum(talksDict.keys())"
      ],
      "metadata": {
        "colab": {
          "base_uri": "https://localhost:8080/"
        },
        "id": "FJIz0JJZN4MO",
        "outputId": "7e3acfea-4d2e-4ab2-b7dd-593680993b48"
      },
      "execution_count": 37,
      "outputs": [
        {
          "output_type": "execute_result",
          "data": {
            "text/plain": [
              "785"
            ]
          },
          "metadata": {},
          "execution_count": 37
        }
      ]
    },
    {
      "cell_type": "code",
      "source": [
        "785 - 240"
      ],
      "metadata": {
        "colab": {
          "base_uri": "https://localhost:8080/"
        },
        "id": "ZrIXD9U68om0",
        "outputId": "eb75acc1-ddc9-4cae-df04-a02919b8a4b0"
      },
      "execution_count": 44,
      "outputs": [
        {
          "output_type": "execute_result",
          "data": {
            "text/plain": [
              "545"
            ]
          },
          "metadata": {},
          "execution_count": 44
        }
      ]
    },
    {
      "cell_type": "code",
      "source": [
        "240 /180"
      ],
      "metadata": {
        "colab": {
          "base_uri": "https://localhost:8080/"
        },
        "id": "iKZjOv_bQ6Ga",
        "outputId": "cc96fd16-c7ad-4d51-ea5a-0e279f33b9d5"
      },
      "execution_count": 45,
      "outputs": [
        {
          "output_type": "execute_result",
          "data": {
            "text/plain": [
              "1.3333333333333333"
            ]
          },
          "metadata": {},
          "execution_count": 45
        }
      ]
    },
    {
      "cell_type": "code",
      "source": [
        "180 * 4"
      ],
      "metadata": {
        "colab": {
          "base_uri": "https://localhost:8080/"
        },
        "id": "Oo8YSnXROAoa",
        "outputId": "23131990-810a-4800-ba58-aeabed537c96"
      },
      "execution_count": 41,
      "outputs": [
        {
          "output_type": "execute_result",
          "data": {
            "text/plain": [
              "720"
            ]
          },
          "metadata": {},
          "execution_count": 41
        }
      ]
    },
    {
      "cell_type": "code",
      "source": [
        "180 + 65"
      ],
      "metadata": {
        "colab": {
          "base_uri": "https://localhost:8080/"
        },
        "id": "a3RmxPV1ORE8",
        "outputId": "aff1fefa-8f32-4018-b9b8-6c42e239b2fe"
      },
      "execution_count": 42,
      "outputs": [
        {
          "output_type": "execute_result",
          "data": {
            "text/plain": [
              "245"
            ]
          },
          "metadata": {},
          "execution_count": 42
        }
      ]
    },
    {
      "cell_type": "code",
      "source": [
        "785 / 180"
      ],
      "metadata": {
        "colab": {
          "base_uri": "https://localhost:8080/"
        },
        "id": "3gOVBbKc5Rg7",
        "outputId": "cca52da0-ec47-428c-dbe6-0bd5990eb3dd"
      },
      "execution_count": null,
      "outputs": [
        {
          "output_type": "execute_result",
          "data": {
            "text/plain": [
              "4.361111111111111"
            ]
          },
          "metadata": {},
          "execution_count": 47
        }
      ]
    },
    {
      "cell_type": "code",
      "source": [
        "785 - (180 * 4)"
      ],
      "metadata": {
        "colab": {
          "base_uri": "https://localhost:8080/"
        },
        "id": "SYjXjeoC86ut",
        "outputId": "7c9cbfa5-02cc-47d4-893c-5382a5aa0025"
      },
      "execution_count": 35,
      "outputs": [
        {
          "output_type": "execute_result",
          "data": {
            "text/plain": [
              "65"
            ]
          },
          "metadata": {},
          "execution_count": 35
        }
      ]
    },
    {
      "cell_type": "code",
      "source": [
        "180 + 65"
      ],
      "metadata": {
        "colab": {
          "base_uri": "https://localhost:8080/"
        },
        "id": "cXLs2e0YNvFL",
        "outputId": "6f193bd0-4e2a-4e4d-8267-156b5b5cc430"
      },
      "execution_count": 36,
      "outputs": [
        {
          "output_type": "execute_result",
          "data": {
            "text/plain": [
              "245"
            ]
          },
          "metadata": {},
          "execution_count": 36
        }
      ]
    },
    {
      "cell_type": "code",
      "source": [
        "605 / 180 "
      ],
      "metadata": {
        "colab": {
          "base_uri": "https://localhost:8080/"
        },
        "id": "nhXZe-fk7jht",
        "outputId": "f64f01a1-30b1-4b78-f176-d36a441d7bf6"
      },
      "execution_count": null,
      "outputs": [
        {
          "output_type": "execute_result",
          "data": {
            "text/plain": [
              "3.361111111111111"
            ]
          },
          "metadata": {},
          "execution_count": 41
        }
      ]
    },
    {
      "cell_type": "code",
      "source": [
        "talkTimeSum(talksDict.keys()) "
      ],
      "metadata": {
        "colab": {
          "base_uri": "https://localhost:8080/"
        },
        "id": "o69FGosV4DPr",
        "outputId": "264570cc-a865-4ce1-9ba5-a6aa3b665452"
      },
      "execution_count": null,
      "outputs": [
        {
          "output_type": "execute_result",
          "data": {
            "text/plain": [
              "785"
            ]
          },
          "metadata": {},
          "execution_count": 37
        }
      ]
    },
    {
      "cell_type": "code",
      "source": [
        "import collections\n",
        "tracks = collections.defaultdict(dict)\n",
        "\n",
        "while talkTimeSum(talks_set != 0):\n",
        "  id = 1\n",
        "  tracks[id] = {}\n",
        "  for talks in subsetSum(MORNING_SESSION_TOTAL_MINUTES,talks_set):\n",
        "    tracks[id][get_time(MORNING_SESSION_START_TIME)] = talks, talksDict[talks]\n",
        "    tracks[id][add_minutes_toTime(talksDict[talks])] = "
      ],
      "metadata": {
        "id": "1-f8D7CCMG4-"
      },
      "execution_count": null,
      "outputs": []
    }
  ]
}